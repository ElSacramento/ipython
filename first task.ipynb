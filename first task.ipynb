{
 "cells": [
  {
   "cell_type": "code",
   "execution_count": 78,
   "metadata": {
    "collapsed": true
   },
   "outputs": [],
   "source": [
    "file_obj = open('sentences.txt')"
   ]
  },
  {
   "cell_type": "code",
   "execution_count": 79,
   "metadata": {
    "collapsed": true
   },
   "outputs": [],
   "source": [
    "import numpy as np\n",
    "import scipy as sp\n",
    "import re"
   ]
  },
  {
   "cell_type": "code",
   "execution_count": 80,
   "metadata": {
    "collapsed": false
   },
   "outputs": [],
   "source": [
    "data_list = list(file_obj)"
   ]
  },
  {
   "cell_type": "code",
   "execution_count": 81,
   "metadata": {
    "collapsed": false
   },
   "outputs": [
    {
     "name": "stdout",
     "output_type": "stream",
     "text": [
      "22\n"
     ]
    }
   ],
   "source": [
    "data_list2 = [filter(None,re.split('[^a-z]',line.lower())) for line in data_list]\n",
    "# for line in data_list: \n",
    "#     line = line.lower()\n",
    "#     line = re.split('[^a-z]', line)\n",
    "#     line = filter(None, line)\n",
    "#     data_list[i] = line\n",
    "#     i = i+1\n",
    "print len(data_list2)"
   ]
  },
  {
   "cell_type": "code",
   "execution_count": 82,
   "metadata": {
    "collapsed": false
   },
   "outputs": [
    {
     "name": "stdout",
     "output_type": "stream",
     "text": [
      "254\n",
      "{'displays': 155, 'osx': 192, 'selection': 67, 'safari': 221, 'just': 31, 'developed': 194, 'over': 170, 'vermin': 72, 'domestic': 87, 'named': 104, 'installed': 181, 'symbols': 149, 'through': 206, 'human': 51, 'world': 142, 'disk': 244, 'its': 74, 'fifth': 249, 'features': 251, 'tamed': 65, 'upgrade': 232, 'lb': 97, 'drive': 248, 'to': 2, 'won': 239, 'deliberately': 64, 'marks': 226, 'has': 129, 'predecessor': 172, 'non': 199, 'which': 182, 'read': 122, 'october': 160, 'every': 215, 'os': 174, 'they': 68, 'not': 6, 'during': 10, 'now': 195, 'possess': 83, 'intel': 189, 'keyboards': 116, 'bytes': 20, 'unnecessary': 102, 'patch': 217, 'predators': 71, 'small': 60, 'output': 41, 'entirely': 235, 'where': 29, 'ears': 52, 'available': 164, 'on': 115, 'often': 113, 'sequence': 32, 'some': 177, 'lion': 202, 'frequency': 50, 'are': 78, 'year': 216, 'download': 205, 'terms': 123, 'concern': 107, 'error': 106, 'for': 37, 'pipes': 128, 'since': 187, 'factory': 180, 'artificial': 66, 'content': 42, 'version': 163, 'run': 245, 'between': 95, 'new': 148, 'learned': 137, 'three': 218, 'piped': 100, 'common': 34, 'concatenate': 26, 'be': 23, 'weighing': 94, 'genes': 86, 'use': 36, 'standard': 43, 'release': 225, 'diploid': 80, 'members': 90, 'x': 175, 'based': 200, 'safer': 105, 'by': 56, 'both': 79, 'commands': 125, 'installation': 186, 'installs': 236, 'of': 19, 'needing': 121, 'allows': 196, 'according': 167, 'july': 203, 'later': 197, 'mac': 173, 's': 207, 'streams': 18, 'receives': 154, 'successor': 161, 'catenates': 17, 'changes': 9, 'or': 48, 'felis': 92, 'major': 8, 'faint': 47, 'useful': 70, 'apple': 168, 'app': 208, 'community': 193, 'one': 62, 'running': 222, 'unix': 140, 'right': 132, 'simply': 16, 'linux': 141, 'sounds': 45, 'size': 89, 'undergone': 7, 'delete': 119, 'from': 146, 'enhancements': 171, 'second': 227, 'their': 191, 'create': 242, 'people': 63, 'two': 165, 't': 240, 'redirection': 110, 'however': 98, 'cats': 4, 'too': 46, 'basic': 136, 'permanently': 118, 'type': 150, 'dogs': 3, 'store': 209, 'more': 252, 'files': 28, 'releases': 198, 'that': 82, 'started': 139, 'contains': 169, 'releasing': 212, 'tiger': 162, 'released': 159, 'part': 210, 'hear': 44, 'external': 247, 'editions': 166, 'off': 246, 'mice': 57, 'with': 103, 'than': 234, 'those': 54, 'longer': 184, 'count': 253, 'made': 55, 'animals': 61, 'mavericks': 224, 'versions': 213, 'default': 109, 'was': 158, 'single': 38, 'cat': 15, 'will': 30, 'can': 22, 'were': 69, 'wild': 76, 'similar': 88, 'interactive': 35, 'and': 58, 'mountain': 201, 'computers': 178, 'have': 5, 'stdout': 156, 'process': 13, 'lines': 144, 'is': 40, 'received': 145, 'moved': 188, 'it': 21, 'an': 230, 'high': 49, 'as': 14, 'incremental': 231, 'file': 39, 'in': 0, 'need': 241, 'domesticated': 73, 'any': 152, 'domestication': 12, 'if': 99, 'binary': 27, 'processors': 190, 'no': 183, 'rather': 233, 'legibility': 124, 'separate': 243, 'firmware': 179, 'when': 138, 'mid': 176, 'also': 24, 'other': 59, 'arguments': 153, 'adjacent': 114, 'online': 214, 'instead': 112, 'you': 120, 'ancestor': 77, 'offered': 229, 'used': 25, 'chromosomes': 84, 'closest': 75, 'information': 134, 'may': 117, 'symbol': 111, 'leopard': 157, 'update': 250, 'most': 219, 'wrong': 108, 'connected': 127, 'yosemite': 223, 'such': 53, 'comparison': 1, 'recent': 220, 'a': 33, 'purchase': 204, 'genus': 91, 'kg': 96, 'organisms': 81, 'using': 143, 'starting': 126, 'clear': 130, 'stdin': 147, 'flow': 133, 'roughly': 85, 'so': 238, 'switch': 211, 'without': 151, 'command': 135, 'place': 237, 'allow': 185, 'time': 228, 'redirected': 101, 'the': 11, 'typically': 93, 'left': 131}\n"
     ]
    }
   ],
   "source": [
    "dic = dict()\n",
    "i = 0\n",
    "for line in data_list2:\n",
    "    for item in line:\n",
    "        if item not in dic.keys():\n",
    "            dic[item] = i\n",
    "            i += 1\n",
    "print len(dic)\n",
    "print dic"
   ]
  },
  {
   "cell_type": "code",
   "execution_count": 83,
   "metadata": {
    "collapsed": false
   },
   "outputs": [
    {
     "name": "stdout",
     "output_type": "stream",
     "text": [
      "(22L, 254L)\n"
     ]
    }
   ],
   "source": [
    "matr = np.zeros((len(data_list2), len(dic)))\n",
    "print matr.shape"
   ]
  },
  {
   "cell_type": "code",
   "execution_count": 84,
   "metadata": {
    "collapsed": false
   },
   "outputs": [
    {
     "name": "stdout",
     "output_type": "stream",
     "text": [
      "[[ 1.  1.  1. ...,  0.  0.  0.]\n",
      " [ 0.  0.  1. ...,  0.  0.  0.]\n",
      " [ 0.  0.  2. ...,  0.  0.  0.]\n",
      " ..., \n",
      " [ 0.  0.  0. ...,  0.  0.  0.]\n",
      " [ 1.  0.  1. ...,  0.  0.  0.]\n",
      " [ 0.  0.  1. ...,  1.  1.  1.]]\n"
     ]
    }
   ],
   "source": [
    "s = -1\n",
    "i = 0\n",
    "for line in data_list2:\n",
    "    for word in line:\n",
    "        s = dic.get(word)\n",
    "        matr[i][s] += 1     \n",
    "    i += 1\n",
    "print matr  "
   ]
  },
  {
   "cell_type": "code",
   "execution_count": 85,
   "metadata": {
    "collapsed": false
   },
   "outputs": [
    {
     "name": "stdout",
     "output_type": "stream",
     "text": [
      "0.956644501524 17 0.952754440874 1\n"
     ]
    }
   ],
   "source": [
    "import scipy.spatial as st\n",
    "max1 = 0.\n",
    "max2 = 0.\n",
    "s = 0.\n",
    "imax1 = 0\n",
    "imax2 = 0\n",
    "for i in range(1,22):\n",
    "    s = st.distance.cosine(matr[0], matr[i])\n",
    "    if s>max1:\n",
    "        max2 = max1\n",
    "        max1 = s\n",
    "        imax2 = imax1\n",
    "        imax1 = i\n",
    "    if (s>max2) & (s<=max1) & (i != imax1):\n",
    "        max2 = s\n",
    "        imax2 = i\n",
    "print max1, imax1, max2, imax2"
   ]
  },
  {
   "cell_type": "code",
   "execution_count": 88,
   "metadata": {
    "collapsed": false
   },
   "outputs": [],
   "source": [
    "file_obj = open(\"result_for_first.txt\", \"w\")\n",
    "file_obj.write(str(imax1) + \" \" + str(imax2))\n",
    "file_obj.close()"
   ]
  },
  {
   "cell_type": "code",
   "execution_count": null,
   "metadata": {
    "collapsed": false
   },
   "outputs": [],
   "source": []
  },
  {
   "cell_type": "code",
   "execution_count": null,
   "metadata": {
    "collapsed": true
   },
   "outputs": [],
   "source": []
  }
 ],
 "metadata": {
  "kernelspec": {
   "display_name": "Python 2",
   "language": "python",
   "name": "python2"
  },
  "language_info": {
   "codemirror_mode": {
    "name": "ipython",
    "version": 2
   },
   "file_extension": ".py",
   "mimetype": "text/x-python",
   "name": "python",
   "nbconvert_exporter": "python",
   "pygments_lexer": "ipython2",
   "version": "2.7.11"
  }
 },
 "nbformat": 4,
 "nbformat_minor": 0
}
