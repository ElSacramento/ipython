{
 "cells": [
  {
   "cell_type": "code",
   "execution_count": 2,
   "metadata": {
    "collapsed": true
   },
   "outputs": [],
   "source": [
    "import json"
   ]
  },
  {
   "cell_type": "code",
   "execution_count": 66,
   "metadata": {
    "collapsed": false
   },
   "outputs": [
    {
     "data": {
      "text/plain": [
       "{u'body': {u'avatars': {u'90x90': u'//avt.mail.ru/user/90x90.jpg',\n",
       "   u'mainphoto': u'//avt.mail.ru/user/main.jpg'},\n",
       "  u'domain': u'mail.ru',\n",
       "  u'flags': {u'mrim_disabled': True},\n",
       "  u'login': u'philiptestovyj',\n",
       "  u'nick': u'Philip Testovyj'},\n",
       " u'email': u'philiptestovyj@mail.ru',\n",
       " u'htmlencoded': True,\n",
       " u'last_modified': 123456789,\n",
       " u'status': 200}"
      ]
     },
     "execution_count": 66,
     "metadata": {},
     "output_type": "execute_result"
    }
   ],
   "source": [
    "json_file = open(\"json_data.json\")\n",
    "json_data = json.load(json_file)\n",
    "ethalon = open(\"json_data_without_item.json\")\n",
    "with open(\"json_data_without_item.json\") as json_file:\n",
    "    json_data2 = json.load(json_file)\n",
    "json_small = json.load(open(\"json_small.json\"))\n",
    "json_small"
   ]
  },
  {
   "cell_type": "code",
   "execution_count": 30,
   "metadata": {
    "collapsed": false
   },
   "outputs": [],
   "source": [
    "#json_data_sorted = sorted(json_data.items())\n",
    "#print (json_data == json_data2)"
   ]
  },
  {
   "cell_type": "code",
   "execution_count": 61,
   "metadata": {
    "collapsed": false
   },
   "outputs": [],
   "source": [
    "def comparator(json_file, ethalon):\n",
    "    try:\n",
    "        json_data = json.load(json_file)\n",
    "    except ValueError:\n",
    "        return \"json error1\"\n",
    "    try:\n",
    "        ethalon_data = json.load(ethalon)\n",
    "    except ValueError:\n",
    "        return \"json error2\"\n",
    "    print cmp(json_data, ethalon_data)\n",
    "    if json_data == ethalon_data:\n",
    "        return \"ok\"\n",
    "    else:\n",
    "        return \"not simular\""
   ]
  },
  {
   "cell_type": "code",
   "execution_count": 65,
   "metadata": {
    "collapsed": false
   },
   "outputs": [
    {
     "name": "stdout",
     "output_type": "stream",
     "text": [
      "-1\n"
     ]
    },
    {
     "data": {
      "text/plain": [
       "'not simular'"
      ]
     },
     "execution_count": 65,
     "metadata": {},
     "output_type": "execute_result"
    }
   ],
   "source": [
    "json_file = open(\"json_data.json\")\n",
    "ethalon = open(\"json_data2.json\")\n",
    "\n",
    "comparator(json_file,ethalon)"
   ]
  },
  {
   "cell_type": "code",
   "execution_count": null,
   "metadata": {
    "collapsed": true
   },
   "outputs": [],
   "source": []
  }
 ],
 "metadata": {
  "kernelspec": {
   "display_name": "Python 2",
   "language": "python",
   "name": "python2"
  },
  "language_info": {
   "codemirror_mode": {
    "name": "ipython",
    "version": 2
   },
   "file_extension": ".py",
   "mimetype": "text/x-python",
   "name": "python",
   "nbconvert_exporter": "python",
   "pygments_lexer": "ipython2",
   "version": "2.7.11"
  }
 },
 "nbformat": 4,
 "nbformat_minor": 0
}
